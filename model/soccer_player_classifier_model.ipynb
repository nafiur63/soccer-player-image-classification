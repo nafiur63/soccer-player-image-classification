{
 "cells": [
  {
   "cell_type": "code",
   "execution_count": 2,
   "id": "143477e1",
   "metadata": {},
   "outputs": [
    {
     "data": {
      "text/plain": [
       "['./dataset/cropped/cristiano ronaldo',\n",
       " './dataset/cropped/david beckham',\n",
       " './dataset/cropped/gareth bale',\n",
       " './dataset/cropped/kylian mbappe',\n",
       " './dataset/cropped/lionel messi',\n",
       " './dataset/cropped/luis suarez',\n",
       " './dataset/cropped/mohamed salah',\n",
       " './dataset/cropped/neymar jr',\n",
       " './dataset/cropped/thomas muller',\n",
       " './dataset/cropped/zlatan ibrahimovic']"
      ]
     },
     "execution_count": 2,
     "metadata": {},
     "output_type": "execute_result"
    }
   ],
   "source": [
    "import os\n",
    "cropped_img_dirs = []\n",
    "for entry in os.scandir(\"./dataset/cropped/\"):\n",
    "    if entry.is_dir():\n",
    "        cropped_img_dirs.append(entry.path)\n",
    "cropped_img_dirs"
   ]
  },
  {
   "cell_type": "code",
   "execution_count": null,
   "id": "9ff23e35-3c97-46f0-9c16-1dcac8de9aa5",
   "metadata": {},
   "outputs": [],
   "source": []
  }
 ],
 "metadata": {
  "kernelspec": {
   "display_name": "Python 3 (ipykernel)",
   "language": "python",
   "name": "python3"
  },
  "language_info": {
   "codemirror_mode": {
    "name": "ipython",
    "version": 3
   },
   "file_extension": ".py",
   "mimetype": "text/x-python",
   "name": "python",
   "nbconvert_exporter": "python",
   "pygments_lexer": "ipython3",
   "version": "3.11.3"
  }
 },
 "nbformat": 4,
 "nbformat_minor": 5
}
