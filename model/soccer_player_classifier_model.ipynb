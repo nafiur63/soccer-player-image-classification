{
 "cells": [
  {
   "cell_type": "code",
   "execution_count": 102,
   "id": "4cf8824e-f63e-4705-b5b5-c67a7144be86",
   "metadata": {},
   "outputs": [],
   "source": [
    "import numpy as np\n",
    "import cv2\n",
    "import matplotlib\n",
    "from matplotlib import pyplot as plt\n",
    "%matplotlib inline"
   ]
  },
  {
   "cell_type": "code",
   "execution_count": 103,
   "id": "143477e1",
   "metadata": {},
   "outputs": [
    {
     "data": {
      "text/plain": [
       "['./dataset/cropped/cristiano ronaldo',\n",
       " './dataset/cropped/david beckham',\n",
       " './dataset/cropped/gareth bale',\n",
       " './dataset/cropped/kylian mbappe',\n",
       " './dataset/cropped/lionel messi',\n",
       " './dataset/cropped/luis suarez',\n",
       " './dataset/cropped/mohamed salah',\n",
       " './dataset/cropped/neymar jr',\n",
       " './dataset/cropped/thomas muller',\n",
       " './dataset/cropped/zlatan ibrahimovic']"
      ]
     },
     "execution_count": 103,
     "metadata": {},
     "output_type": "execute_result"
    }
   ],
   "source": [
    "import os\n",
    "cropped_img_dirs = []\n",
    "for entry in os.scandir(\"./dataset/cropped/\"):\n",
    "    if entry.is_dir():\n",
    "        cropped_img_dirs.append(entry.path)\n",
    "cropped_img_dirs"
   ]
  },
  {
   "cell_type": "code",
   "execution_count": 104,
   "id": "9ff23e35-3c97-46f0-9c16-1dcac8de9aa5",
   "metadata": {},
   "outputs": [
    {
     "data": {
      "text/plain": [
       "{'cristiano ronaldo': ['./dataset/cropped/cristiano ronaldo\\\\cristiano ronaldo1.png',\n",
       "  './dataset/cropped/cristiano ronaldo\\\\cristiano ronaldo10.png',\n",
       "  './dataset/cropped/cristiano ronaldo\\\\cristiano ronaldo11.png',\n",
       "  './dataset/cropped/cristiano ronaldo\\\\cristiano ronaldo12.png',\n",
       "  './dataset/cropped/cristiano ronaldo\\\\cristiano ronaldo13.png',\n",
       "  './dataset/cropped/cristiano ronaldo\\\\cristiano ronaldo14.png',\n",
       "  './dataset/cropped/cristiano ronaldo\\\\cristiano ronaldo15.png',\n",
       "  './dataset/cropped/cristiano ronaldo\\\\cristiano ronaldo16.png',\n",
       "  './dataset/cropped/cristiano ronaldo\\\\cristiano ronaldo17.png',\n",
       "  './dataset/cropped/cristiano ronaldo\\\\cristiano ronaldo18.png',\n",
       "  './dataset/cropped/cristiano ronaldo\\\\cristiano ronaldo19.png',\n",
       "  './dataset/cropped/cristiano ronaldo\\\\cristiano ronaldo2.png',\n",
       "  './dataset/cropped/cristiano ronaldo\\\\cristiano ronaldo20.png',\n",
       "  './dataset/cropped/cristiano ronaldo\\\\cristiano ronaldo21.png',\n",
       "  './dataset/cropped/cristiano ronaldo\\\\cristiano ronaldo22.png',\n",
       "  './dataset/cropped/cristiano ronaldo\\\\cristiano ronaldo23.png',\n",
       "  './dataset/cropped/cristiano ronaldo\\\\cristiano ronaldo24.png',\n",
       "  './dataset/cropped/cristiano ronaldo\\\\cristiano ronaldo25.png',\n",
       "  './dataset/cropped/cristiano ronaldo\\\\cristiano ronaldo26.png',\n",
       "  './dataset/cropped/cristiano ronaldo\\\\cristiano ronaldo27.png',\n",
       "  './dataset/cropped/cristiano ronaldo\\\\cristiano ronaldo28.png',\n",
       "  './dataset/cropped/cristiano ronaldo\\\\cristiano ronaldo29.png',\n",
       "  './dataset/cropped/cristiano ronaldo\\\\cristiano ronaldo3.png',\n",
       "  './dataset/cropped/cristiano ronaldo\\\\cristiano ronaldo30.png',\n",
       "  './dataset/cropped/cristiano ronaldo\\\\cristiano ronaldo31.png',\n",
       "  './dataset/cropped/cristiano ronaldo\\\\cristiano ronaldo32.png',\n",
       "  './dataset/cropped/cristiano ronaldo\\\\cristiano ronaldo33.png',\n",
       "  './dataset/cropped/cristiano ronaldo\\\\cristiano ronaldo35.png',\n",
       "  './dataset/cropped/cristiano ronaldo\\\\cristiano ronaldo36.png',\n",
       "  './dataset/cropped/cristiano ronaldo\\\\cristiano ronaldo38.png',\n",
       "  './dataset/cropped/cristiano ronaldo\\\\cristiano ronaldo39.png',\n",
       "  './dataset/cropped/cristiano ronaldo\\\\cristiano ronaldo4.png',\n",
       "  './dataset/cropped/cristiano ronaldo\\\\cristiano ronaldo40.png',\n",
       "  './dataset/cropped/cristiano ronaldo\\\\cristiano ronaldo41.png',\n",
       "  './dataset/cropped/cristiano ronaldo\\\\cristiano ronaldo42.png',\n",
       "  './dataset/cropped/cristiano ronaldo\\\\cristiano ronaldo43.png',\n",
       "  './dataset/cropped/cristiano ronaldo\\\\cristiano ronaldo44.png',\n",
       "  './dataset/cropped/cristiano ronaldo\\\\cristiano ronaldo45.png',\n",
       "  './dataset/cropped/cristiano ronaldo\\\\cristiano ronaldo5.png',\n",
       "  './dataset/cropped/cristiano ronaldo\\\\cristiano ronaldo6.png',\n",
       "  './dataset/cropped/cristiano ronaldo\\\\cristiano ronaldo7.png',\n",
       "  './dataset/cropped/cristiano ronaldo\\\\cristiano ronaldo8.png',\n",
       "  './dataset/cropped/cristiano ronaldo\\\\cristiano ronaldo9.png'],\n",
       " 'david beckham': ['./dataset/cropped/david beckham\\\\david beckham1.png',\n",
       "  './dataset/cropped/david beckham\\\\david beckham10.png',\n",
       "  './dataset/cropped/david beckham\\\\david beckham11.png',\n",
       "  './dataset/cropped/david beckham\\\\david beckham12.png',\n",
       "  './dataset/cropped/david beckham\\\\david beckham13.png',\n",
       "  './dataset/cropped/david beckham\\\\david beckham14.png',\n",
       "  './dataset/cropped/david beckham\\\\david beckham15.png',\n",
       "  './dataset/cropped/david beckham\\\\david beckham16.png',\n",
       "  './dataset/cropped/david beckham\\\\david beckham17.png',\n",
       "  './dataset/cropped/david beckham\\\\david beckham18.png',\n",
       "  './dataset/cropped/david beckham\\\\david beckham19.png',\n",
       "  './dataset/cropped/david beckham\\\\david beckham2.png',\n",
       "  './dataset/cropped/david beckham\\\\david beckham20.png',\n",
       "  './dataset/cropped/david beckham\\\\david beckham21.png',\n",
       "  './dataset/cropped/david beckham\\\\david beckham22.png',\n",
       "  './dataset/cropped/david beckham\\\\david beckham23.png',\n",
       "  './dataset/cropped/david beckham\\\\david beckham24.png',\n",
       "  './dataset/cropped/david beckham\\\\david beckham26.png',\n",
       "  './dataset/cropped/david beckham\\\\david beckham27.png',\n",
       "  './dataset/cropped/david beckham\\\\david beckham28.png',\n",
       "  './dataset/cropped/david beckham\\\\david beckham29.png',\n",
       "  './dataset/cropped/david beckham\\\\david beckham3.png',\n",
       "  './dataset/cropped/david beckham\\\\david beckham30.png',\n",
       "  './dataset/cropped/david beckham\\\\david beckham31.png',\n",
       "  './dataset/cropped/david beckham\\\\david beckham32.png',\n",
       "  './dataset/cropped/david beckham\\\\david beckham33.png',\n",
       "  './dataset/cropped/david beckham\\\\david beckham34.png',\n",
       "  './dataset/cropped/david beckham\\\\david beckham35.png',\n",
       "  './dataset/cropped/david beckham\\\\david beckham36.png',\n",
       "  './dataset/cropped/david beckham\\\\david beckham37.png',\n",
       "  './dataset/cropped/david beckham\\\\david beckham38.png',\n",
       "  './dataset/cropped/david beckham\\\\david beckham39.png',\n",
       "  './dataset/cropped/david beckham\\\\david beckham4.png',\n",
       "  './dataset/cropped/david beckham\\\\david beckham40.png',\n",
       "  './dataset/cropped/david beckham\\\\david beckham41.png',\n",
       "  './dataset/cropped/david beckham\\\\david beckham42.png',\n",
       "  './dataset/cropped/david beckham\\\\david beckham43.png',\n",
       "  './dataset/cropped/david beckham\\\\david beckham44.png',\n",
       "  './dataset/cropped/david beckham\\\\david beckham45.png',\n",
       "  './dataset/cropped/david beckham\\\\david beckham46.png',\n",
       "  './dataset/cropped/david beckham\\\\david beckham5.png',\n",
       "  './dataset/cropped/david beckham\\\\david beckham6.png',\n",
       "  './dataset/cropped/david beckham\\\\david beckham7.png',\n",
       "  './dataset/cropped/david beckham\\\\david beckham8.png',\n",
       "  './dataset/cropped/david beckham\\\\david beckham9.png'],\n",
       " 'gareth bale': ['./dataset/cropped/gareth bale\\\\gareth bale1.png',\n",
       "  './dataset/cropped/gareth bale\\\\gareth bale10.png',\n",
       "  './dataset/cropped/gareth bale\\\\gareth bale11.png',\n",
       "  './dataset/cropped/gareth bale\\\\gareth bale12.png',\n",
       "  './dataset/cropped/gareth bale\\\\gareth bale13.png',\n",
       "  './dataset/cropped/gareth bale\\\\gareth bale14.png',\n",
       "  './dataset/cropped/gareth bale\\\\gareth bale15.png',\n",
       "  './dataset/cropped/gareth bale\\\\gareth bale16.png',\n",
       "  './dataset/cropped/gareth bale\\\\gareth bale17.png',\n",
       "  './dataset/cropped/gareth bale\\\\gareth bale18.png',\n",
       "  './dataset/cropped/gareth bale\\\\gareth bale19.png',\n",
       "  './dataset/cropped/gareth bale\\\\gareth bale2.png',\n",
       "  './dataset/cropped/gareth bale\\\\gareth bale20.png',\n",
       "  './dataset/cropped/gareth bale\\\\gareth bale21.png',\n",
       "  './dataset/cropped/gareth bale\\\\gareth bale22.png',\n",
       "  './dataset/cropped/gareth bale\\\\gareth bale23.png',\n",
       "  './dataset/cropped/gareth bale\\\\gareth bale24.png',\n",
       "  './dataset/cropped/gareth bale\\\\gareth bale25.png',\n",
       "  './dataset/cropped/gareth bale\\\\gareth bale26.png',\n",
       "  './dataset/cropped/gareth bale\\\\gareth bale27.png',\n",
       "  './dataset/cropped/gareth bale\\\\gareth bale29.png',\n",
       "  './dataset/cropped/gareth bale\\\\gareth bale3.png',\n",
       "  './dataset/cropped/gareth bale\\\\gareth bale30.png',\n",
       "  './dataset/cropped/gareth bale\\\\gareth bale31.png',\n",
       "  './dataset/cropped/gareth bale\\\\gareth bale32.png',\n",
       "  './dataset/cropped/gareth bale\\\\gareth bale33.png',\n",
       "  './dataset/cropped/gareth bale\\\\gareth bale35.png',\n",
       "  './dataset/cropped/gareth bale\\\\gareth bale36.png',\n",
       "  './dataset/cropped/gareth bale\\\\gareth bale37.png',\n",
       "  './dataset/cropped/gareth bale\\\\gareth bale39.png',\n",
       "  './dataset/cropped/gareth bale\\\\gareth bale4.png',\n",
       "  './dataset/cropped/gareth bale\\\\gareth bale40.png',\n",
       "  './dataset/cropped/gareth bale\\\\gareth bale41.png',\n",
       "  './dataset/cropped/gareth bale\\\\gareth bale42.png',\n",
       "  './dataset/cropped/gareth bale\\\\gareth bale43.png',\n",
       "  './dataset/cropped/gareth bale\\\\gareth bale44.png',\n",
       "  './dataset/cropped/gareth bale\\\\gareth bale5.png',\n",
       "  './dataset/cropped/gareth bale\\\\gareth bale6.png',\n",
       "  './dataset/cropped/gareth bale\\\\gareth bale7.png',\n",
       "  './dataset/cropped/gareth bale\\\\gareth bale8.png',\n",
       "  './dataset/cropped/gareth bale\\\\gareth bale9.png'],\n",
       " 'kylian mbappe': ['./dataset/cropped/kylian mbappe\\\\kylian mbappe1.png',\n",
       "  './dataset/cropped/kylian mbappe\\\\kylian mbappe10.png',\n",
       "  './dataset/cropped/kylian mbappe\\\\kylian mbappe11.png',\n",
       "  './dataset/cropped/kylian mbappe\\\\kylian mbappe12.png',\n",
       "  './dataset/cropped/kylian mbappe\\\\kylian mbappe13.png',\n",
       "  './dataset/cropped/kylian mbappe\\\\kylian mbappe14.png',\n",
       "  './dataset/cropped/kylian mbappe\\\\kylian mbappe15.png',\n",
       "  './dataset/cropped/kylian mbappe\\\\kylian mbappe16.png',\n",
       "  './dataset/cropped/kylian mbappe\\\\kylian mbappe17.png',\n",
       "  './dataset/cropped/kylian mbappe\\\\kylian mbappe18.png',\n",
       "  './dataset/cropped/kylian mbappe\\\\kylian mbappe19.png',\n",
       "  './dataset/cropped/kylian mbappe\\\\kylian mbappe2.png',\n",
       "  './dataset/cropped/kylian mbappe\\\\kylian mbappe20.png',\n",
       "  './dataset/cropped/kylian mbappe\\\\kylian mbappe21.png',\n",
       "  './dataset/cropped/kylian mbappe\\\\kylian mbappe22.png',\n",
       "  './dataset/cropped/kylian mbappe\\\\kylian mbappe23.png',\n",
       "  './dataset/cropped/kylian mbappe\\\\kylian mbappe24.png',\n",
       "  './dataset/cropped/kylian mbappe\\\\kylian mbappe25.png',\n",
       "  './dataset/cropped/kylian mbappe\\\\kylian mbappe26.png',\n",
       "  './dataset/cropped/kylian mbappe\\\\kylian mbappe27.png',\n",
       "  './dataset/cropped/kylian mbappe\\\\kylian mbappe28.png',\n",
       "  './dataset/cropped/kylian mbappe\\\\kylian mbappe29.png',\n",
       "  './dataset/cropped/kylian mbappe\\\\kylian mbappe3.png',\n",
       "  './dataset/cropped/kylian mbappe\\\\kylian mbappe30.png',\n",
       "  './dataset/cropped/kylian mbappe\\\\kylian mbappe31.png',\n",
       "  './dataset/cropped/kylian mbappe\\\\kylian mbappe32.png',\n",
       "  './dataset/cropped/kylian mbappe\\\\kylian mbappe33.png',\n",
       "  './dataset/cropped/kylian mbappe\\\\kylian mbappe34.png',\n",
       "  './dataset/cropped/kylian mbappe\\\\kylian mbappe35.png',\n",
       "  './dataset/cropped/kylian mbappe\\\\kylian mbappe36.png',\n",
       "  './dataset/cropped/kylian mbappe\\\\kylian mbappe37.png',\n",
       "  './dataset/cropped/kylian mbappe\\\\kylian mbappe38.png',\n",
       "  './dataset/cropped/kylian mbappe\\\\kylian mbappe39.png',\n",
       "  './dataset/cropped/kylian mbappe\\\\kylian mbappe4.png',\n",
       "  './dataset/cropped/kylian mbappe\\\\kylian mbappe40.png',\n",
       "  './dataset/cropped/kylian mbappe\\\\kylian mbappe41.png',\n",
       "  './dataset/cropped/kylian mbappe\\\\kylian mbappe42.png',\n",
       "  './dataset/cropped/kylian mbappe\\\\kylian mbappe43.png',\n",
       "  './dataset/cropped/kylian mbappe\\\\kylian mbappe44.png',\n",
       "  './dataset/cropped/kylian mbappe\\\\kylian mbappe45.png',\n",
       "  './dataset/cropped/kylian mbappe\\\\kylian mbappe46.png',\n",
       "  './dataset/cropped/kylian mbappe\\\\kylian mbappe47.png',\n",
       "  './dataset/cropped/kylian mbappe\\\\kylian mbappe48.png',\n",
       "  './dataset/cropped/kylian mbappe\\\\kylian mbappe5.png',\n",
       "  './dataset/cropped/kylian mbappe\\\\kylian mbappe6.png',\n",
       "  './dataset/cropped/kylian mbappe\\\\kylian mbappe7.png',\n",
       "  './dataset/cropped/kylian mbappe\\\\kylian mbappe8.png',\n",
       "  './dataset/cropped/kylian mbappe\\\\kylian mbappe9.png'],\n",
       " 'lionel messi': ['./dataset/cropped/lionel messi\\\\lionel messi1.png',\n",
       "  './dataset/cropped/lionel messi\\\\lionel messi10.png',\n",
       "  './dataset/cropped/lionel messi\\\\lionel messi11.png',\n",
       "  './dataset/cropped/lionel messi\\\\lionel messi12.png',\n",
       "  './dataset/cropped/lionel messi\\\\lionel messi13.png',\n",
       "  './dataset/cropped/lionel messi\\\\lionel messi14.png',\n",
       "  './dataset/cropped/lionel messi\\\\lionel messi15.png',\n",
       "  './dataset/cropped/lionel messi\\\\lionel messi16.png',\n",
       "  './dataset/cropped/lionel messi\\\\lionel messi17.png',\n",
       "  './dataset/cropped/lionel messi\\\\lionel messi18.png',\n",
       "  './dataset/cropped/lionel messi\\\\lionel messi19.png',\n",
       "  './dataset/cropped/lionel messi\\\\lionel messi2.png',\n",
       "  './dataset/cropped/lionel messi\\\\lionel messi22.png',\n",
       "  './dataset/cropped/lionel messi\\\\lionel messi23.png',\n",
       "  './dataset/cropped/lionel messi\\\\lionel messi24.png',\n",
       "  './dataset/cropped/lionel messi\\\\lionel messi25.png',\n",
       "  './dataset/cropped/lionel messi\\\\lionel messi26.png',\n",
       "  './dataset/cropped/lionel messi\\\\lionel messi27.png',\n",
       "  './dataset/cropped/lionel messi\\\\lionel messi29.png',\n",
       "  './dataset/cropped/lionel messi\\\\lionel messi3.png',\n",
       "  './dataset/cropped/lionel messi\\\\lionel messi30.png',\n",
       "  './dataset/cropped/lionel messi\\\\lionel messi31.png',\n",
       "  './dataset/cropped/lionel messi\\\\lionel messi32.png',\n",
       "  './dataset/cropped/lionel messi\\\\lionel messi33.png',\n",
       "  './dataset/cropped/lionel messi\\\\lionel messi34.png',\n",
       "  './dataset/cropped/lionel messi\\\\lionel messi36.png',\n",
       "  './dataset/cropped/lionel messi\\\\lionel messi38.png',\n",
       "  './dataset/cropped/lionel messi\\\\lionel messi39.png',\n",
       "  './dataset/cropped/lionel messi\\\\lionel messi40.png',\n",
       "  './dataset/cropped/lionel messi\\\\lionel messi41.png',\n",
       "  './dataset/cropped/lionel messi\\\\lionel messi42.png',\n",
       "  './dataset/cropped/lionel messi\\\\lionel messi44.png',\n",
       "  './dataset/cropped/lionel messi\\\\lionel messi45.png',\n",
       "  './dataset/cropped/lionel messi\\\\lionel messi47.png',\n",
       "  './dataset/cropped/lionel messi\\\\lionel messi48.png',\n",
       "  './dataset/cropped/lionel messi\\\\lionel messi49.png',\n",
       "  './dataset/cropped/lionel messi\\\\lionel messi5.png',\n",
       "  './dataset/cropped/lionel messi\\\\lionel messi50.png',\n",
       "  './dataset/cropped/lionel messi\\\\lionel messi52.png',\n",
       "  './dataset/cropped/lionel messi\\\\lionel messi53.png',\n",
       "  './dataset/cropped/lionel messi\\\\lionel messi54.png',\n",
       "  './dataset/cropped/lionel messi\\\\lionel messi55.png',\n",
       "  './dataset/cropped/lionel messi\\\\lionel messi56.png',\n",
       "  './dataset/cropped/lionel messi\\\\lionel messi57.png',\n",
       "  './dataset/cropped/lionel messi\\\\lionel messi58.png',\n",
       "  './dataset/cropped/lionel messi\\\\lionel messi59.png',\n",
       "  './dataset/cropped/lionel messi\\\\lionel messi60.png',\n",
       "  './dataset/cropped/lionel messi\\\\lionel messi61.png',\n",
       "  './dataset/cropped/lionel messi\\\\lionel messi62.png',\n",
       "  './dataset/cropped/lionel messi\\\\lionel messi63.png',\n",
       "  './dataset/cropped/lionel messi\\\\lionel messi65.png',\n",
       "  './dataset/cropped/lionel messi\\\\lionel messi66.png',\n",
       "  './dataset/cropped/lionel messi\\\\lionel messi67.png',\n",
       "  './dataset/cropped/lionel messi\\\\lionel messi68.png',\n",
       "  './dataset/cropped/lionel messi\\\\lionel messi69.png',\n",
       "  './dataset/cropped/lionel messi\\\\lionel messi7.png',\n",
       "  './dataset/cropped/lionel messi\\\\lionel messi70.png',\n",
       "  './dataset/cropped/lionel messi\\\\lionel messi71.png',\n",
       "  './dataset/cropped/lionel messi\\\\lionel messi72.png',\n",
       "  './dataset/cropped/lionel messi\\\\lionel messi8.png',\n",
       "  './dataset/cropped/lionel messi\\\\lionel messi9.png'],\n",
       " 'luis suarez': ['./dataset/cropped/luis suarez\\\\luis suarez1.png',\n",
       "  './dataset/cropped/luis suarez\\\\luis suarez10.png',\n",
       "  './dataset/cropped/luis suarez\\\\luis suarez11.png',\n",
       "  './dataset/cropped/luis suarez\\\\luis suarez12.png',\n",
       "  './dataset/cropped/luis suarez\\\\luis suarez13.png',\n",
       "  './dataset/cropped/luis suarez\\\\luis suarez14.png',\n",
       "  './dataset/cropped/luis suarez\\\\luis suarez16.png',\n",
       "  './dataset/cropped/luis suarez\\\\luis suarez17.png',\n",
       "  './dataset/cropped/luis suarez\\\\luis suarez18.png',\n",
       "  './dataset/cropped/luis suarez\\\\luis suarez19.png',\n",
       "  './dataset/cropped/luis suarez\\\\luis suarez2.png',\n",
       "  './dataset/cropped/luis suarez\\\\luis suarez20.png',\n",
       "  './dataset/cropped/luis suarez\\\\luis suarez22.png',\n",
       "  './dataset/cropped/luis suarez\\\\luis suarez23.png',\n",
       "  './dataset/cropped/luis suarez\\\\luis suarez24.png',\n",
       "  './dataset/cropped/luis suarez\\\\luis suarez25.png',\n",
       "  './dataset/cropped/luis suarez\\\\luis suarez28.png',\n",
       "  './dataset/cropped/luis suarez\\\\luis suarez29.png',\n",
       "  './dataset/cropped/luis suarez\\\\luis suarez3.png',\n",
       "  './dataset/cropped/luis suarez\\\\luis suarez30.png',\n",
       "  './dataset/cropped/luis suarez\\\\luis suarez31.png',\n",
       "  './dataset/cropped/luis suarez\\\\luis suarez32.png',\n",
       "  './dataset/cropped/luis suarez\\\\luis suarez33.png',\n",
       "  './dataset/cropped/luis suarez\\\\luis suarez34.png',\n",
       "  './dataset/cropped/luis suarez\\\\luis suarez35.png',\n",
       "  './dataset/cropped/luis suarez\\\\luis suarez36.png',\n",
       "  './dataset/cropped/luis suarez\\\\luis suarez37.png',\n",
       "  './dataset/cropped/luis suarez\\\\luis suarez38.png',\n",
       "  './dataset/cropped/luis suarez\\\\luis suarez39.png',\n",
       "  './dataset/cropped/luis suarez\\\\luis suarez4.png',\n",
       "  './dataset/cropped/luis suarez\\\\luis suarez40.png',\n",
       "  './dataset/cropped/luis suarez\\\\luis suarez41.png',\n",
       "  './dataset/cropped/luis suarez\\\\luis suarez42.png',\n",
       "  './dataset/cropped/luis suarez\\\\luis suarez43.png',\n",
       "  './dataset/cropped/luis suarez\\\\luis suarez44.png',\n",
       "  './dataset/cropped/luis suarez\\\\luis suarez45.png',\n",
       "  './dataset/cropped/luis suarez\\\\luis suarez46.png',\n",
       "  './dataset/cropped/luis suarez\\\\luis suarez47.png',\n",
       "  './dataset/cropped/luis suarez\\\\luis suarez48.png',\n",
       "  './dataset/cropped/luis suarez\\\\luis suarez49.png',\n",
       "  './dataset/cropped/luis suarez\\\\luis suarez5.png',\n",
       "  './dataset/cropped/luis suarez\\\\luis suarez50.png',\n",
       "  './dataset/cropped/luis suarez\\\\luis suarez51.png',\n",
       "  './dataset/cropped/luis suarez\\\\luis suarez52.png',\n",
       "  './dataset/cropped/luis suarez\\\\luis suarez6.png',\n",
       "  './dataset/cropped/luis suarez\\\\luis suarez7.png',\n",
       "  './dataset/cropped/luis suarez\\\\luis suarez9.png'],\n",
       " 'mohamed salah': ['./dataset/cropped/mohamed salah\\\\mohamed salah1.png',\n",
       "  './dataset/cropped/mohamed salah\\\\mohamed salah10.png',\n",
       "  './dataset/cropped/mohamed salah\\\\mohamed salah11.png',\n",
       "  './dataset/cropped/mohamed salah\\\\mohamed salah12.png',\n",
       "  './dataset/cropped/mohamed salah\\\\mohamed salah13.png',\n",
       "  './dataset/cropped/mohamed salah\\\\mohamed salah14.png',\n",
       "  './dataset/cropped/mohamed salah\\\\mohamed salah15.png',\n",
       "  './dataset/cropped/mohamed salah\\\\mohamed salah16.png',\n",
       "  './dataset/cropped/mohamed salah\\\\mohamed salah17.png',\n",
       "  './dataset/cropped/mohamed salah\\\\mohamed salah18.png',\n",
       "  './dataset/cropped/mohamed salah\\\\mohamed salah19.png',\n",
       "  './dataset/cropped/mohamed salah\\\\mohamed salah2.png',\n",
       "  './dataset/cropped/mohamed salah\\\\mohamed salah20.png',\n",
       "  './dataset/cropped/mohamed salah\\\\mohamed salah21.png',\n",
       "  './dataset/cropped/mohamed salah\\\\mohamed salah22.png',\n",
       "  './dataset/cropped/mohamed salah\\\\mohamed salah23.png',\n",
       "  './dataset/cropped/mohamed salah\\\\mohamed salah24.png',\n",
       "  './dataset/cropped/mohamed salah\\\\mohamed salah25.png',\n",
       "  './dataset/cropped/mohamed salah\\\\mohamed salah26.png',\n",
       "  './dataset/cropped/mohamed salah\\\\mohamed salah27.png',\n",
       "  './dataset/cropped/mohamed salah\\\\mohamed salah28.png',\n",
       "  './dataset/cropped/mohamed salah\\\\mohamed salah29.png',\n",
       "  './dataset/cropped/mohamed salah\\\\mohamed salah3.png',\n",
       "  './dataset/cropped/mohamed salah\\\\mohamed salah30.png',\n",
       "  './dataset/cropped/mohamed salah\\\\mohamed salah31.png',\n",
       "  './dataset/cropped/mohamed salah\\\\mohamed salah32.png',\n",
       "  './dataset/cropped/mohamed salah\\\\mohamed salah33.png',\n",
       "  './dataset/cropped/mohamed salah\\\\mohamed salah34.png',\n",
       "  './dataset/cropped/mohamed salah\\\\mohamed salah35.png',\n",
       "  './dataset/cropped/mohamed salah\\\\mohamed salah4.png',\n",
       "  './dataset/cropped/mohamed salah\\\\mohamed salah5.png',\n",
       "  './dataset/cropped/mohamed salah\\\\mohamed salah6.png',\n",
       "  './dataset/cropped/mohamed salah\\\\mohamed salah7.png',\n",
       "  './dataset/cropped/mohamed salah\\\\mohamed salah8.png',\n",
       "  './dataset/cropped/mohamed salah\\\\mohamed salah9.png'],\n",
       " 'neymar jr': ['./dataset/cropped/neymar jr\\\\neymar jr1.png',\n",
       "  './dataset/cropped/neymar jr\\\\neymar jr10.png',\n",
       "  './dataset/cropped/neymar jr\\\\neymar jr11.png',\n",
       "  './dataset/cropped/neymar jr\\\\neymar jr12.png',\n",
       "  './dataset/cropped/neymar jr\\\\neymar jr13.png',\n",
       "  './dataset/cropped/neymar jr\\\\neymar jr14.png',\n",
       "  './dataset/cropped/neymar jr\\\\neymar jr15.png',\n",
       "  './dataset/cropped/neymar jr\\\\neymar jr16.png',\n",
       "  './dataset/cropped/neymar jr\\\\neymar jr17.png',\n",
       "  './dataset/cropped/neymar jr\\\\neymar jr18.png',\n",
       "  './dataset/cropped/neymar jr\\\\neymar jr19.png',\n",
       "  './dataset/cropped/neymar jr\\\\neymar jr2.png',\n",
       "  './dataset/cropped/neymar jr\\\\neymar jr20.png',\n",
       "  './dataset/cropped/neymar jr\\\\neymar jr21.png',\n",
       "  './dataset/cropped/neymar jr\\\\neymar jr22.png',\n",
       "  './dataset/cropped/neymar jr\\\\neymar jr23.png',\n",
       "  './dataset/cropped/neymar jr\\\\neymar jr24.png',\n",
       "  './dataset/cropped/neymar jr\\\\neymar jr25.png',\n",
       "  './dataset/cropped/neymar jr\\\\neymar jr26.png',\n",
       "  './dataset/cropped/neymar jr\\\\neymar jr27.png',\n",
       "  './dataset/cropped/neymar jr\\\\neymar jr28.png',\n",
       "  './dataset/cropped/neymar jr\\\\neymar jr29.png',\n",
       "  './dataset/cropped/neymar jr\\\\neymar jr3.png',\n",
       "  './dataset/cropped/neymar jr\\\\neymar jr30.png',\n",
       "  './dataset/cropped/neymar jr\\\\neymar jr31.png',\n",
       "  './dataset/cropped/neymar jr\\\\neymar jr32.png',\n",
       "  './dataset/cropped/neymar jr\\\\neymar jr33.png',\n",
       "  './dataset/cropped/neymar jr\\\\neymar jr34.png',\n",
       "  './dataset/cropped/neymar jr\\\\neymar jr36.png',\n",
       "  './dataset/cropped/neymar jr\\\\neymar jr37.png',\n",
       "  './dataset/cropped/neymar jr\\\\neymar jr38.png',\n",
       "  './dataset/cropped/neymar jr\\\\neymar jr39.png',\n",
       "  './dataset/cropped/neymar jr\\\\neymar jr4.png',\n",
       "  './dataset/cropped/neymar jr\\\\neymar jr40.png',\n",
       "  './dataset/cropped/neymar jr\\\\neymar jr41.png',\n",
       "  './dataset/cropped/neymar jr\\\\neymar jr42.png',\n",
       "  './dataset/cropped/neymar jr\\\\neymar jr43.png',\n",
       "  './dataset/cropped/neymar jr\\\\neymar jr44.png',\n",
       "  './dataset/cropped/neymar jr\\\\neymar jr45.png',\n",
       "  './dataset/cropped/neymar jr\\\\neymar jr46.png',\n",
       "  './dataset/cropped/neymar jr\\\\neymar jr47.png',\n",
       "  './dataset/cropped/neymar jr\\\\neymar jr48.png',\n",
       "  './dataset/cropped/neymar jr\\\\neymar jr49.png',\n",
       "  './dataset/cropped/neymar jr\\\\neymar jr5.png',\n",
       "  './dataset/cropped/neymar jr\\\\neymar jr50.png',\n",
       "  './dataset/cropped/neymar jr\\\\neymar jr51.png',\n",
       "  './dataset/cropped/neymar jr\\\\neymar jr52.png',\n",
       "  './dataset/cropped/neymar jr\\\\neymar jr6.png',\n",
       "  './dataset/cropped/neymar jr\\\\neymar jr7.png',\n",
       "  './dataset/cropped/neymar jr\\\\neymar jr8.png',\n",
       "  './dataset/cropped/neymar jr\\\\neymar jr9.png'],\n",
       " 'thomas muller': ['./dataset/cropped/thomas muller\\\\thomas muller1.png',\n",
       "  './dataset/cropped/thomas muller\\\\thomas muller10.png',\n",
       "  './dataset/cropped/thomas muller\\\\thomas muller11.png',\n",
       "  './dataset/cropped/thomas muller\\\\thomas muller12.png',\n",
       "  './dataset/cropped/thomas muller\\\\thomas muller13.png',\n",
       "  './dataset/cropped/thomas muller\\\\thomas muller14.png',\n",
       "  './dataset/cropped/thomas muller\\\\thomas muller15.png',\n",
       "  './dataset/cropped/thomas muller\\\\thomas muller16.png',\n",
       "  './dataset/cropped/thomas muller\\\\thomas muller17.png',\n",
       "  './dataset/cropped/thomas muller\\\\thomas muller18.png',\n",
       "  './dataset/cropped/thomas muller\\\\thomas muller19.png',\n",
       "  './dataset/cropped/thomas muller\\\\thomas muller2.png',\n",
       "  './dataset/cropped/thomas muller\\\\thomas muller22.png',\n",
       "  './dataset/cropped/thomas muller\\\\thomas muller23.png',\n",
       "  './dataset/cropped/thomas muller\\\\thomas muller24.png',\n",
       "  './dataset/cropped/thomas muller\\\\thomas muller25.png',\n",
       "  './dataset/cropped/thomas muller\\\\thomas muller26.png',\n",
       "  './dataset/cropped/thomas muller\\\\thomas muller27.png',\n",
       "  './dataset/cropped/thomas muller\\\\thomas muller28.png',\n",
       "  './dataset/cropped/thomas muller\\\\thomas muller29.png',\n",
       "  './dataset/cropped/thomas muller\\\\thomas muller3.png',\n",
       "  './dataset/cropped/thomas muller\\\\thomas muller30.png',\n",
       "  './dataset/cropped/thomas muller\\\\thomas muller31.png',\n",
       "  './dataset/cropped/thomas muller\\\\thomas muller32.png',\n",
       "  './dataset/cropped/thomas muller\\\\thomas muller33.png',\n",
       "  './dataset/cropped/thomas muller\\\\thomas muller34.png',\n",
       "  './dataset/cropped/thomas muller\\\\thomas muller35.png',\n",
       "  './dataset/cropped/thomas muller\\\\thomas muller36.png',\n",
       "  './dataset/cropped/thomas muller\\\\thomas muller37.png',\n",
       "  './dataset/cropped/thomas muller\\\\thomas muller38.png',\n",
       "  './dataset/cropped/thomas muller\\\\thomas muller39.png',\n",
       "  './dataset/cropped/thomas muller\\\\thomas muller4.png',\n",
       "  './dataset/cropped/thomas muller\\\\thomas muller40.png',\n",
       "  './dataset/cropped/thomas muller\\\\thomas muller41.png',\n",
       "  './dataset/cropped/thomas muller\\\\thomas muller42.png',\n",
       "  './dataset/cropped/thomas muller\\\\thomas muller43.png',\n",
       "  './dataset/cropped/thomas muller\\\\thomas muller44.png',\n",
       "  './dataset/cropped/thomas muller\\\\thomas muller5.png',\n",
       "  './dataset/cropped/thomas muller\\\\thomas muller6.png',\n",
       "  './dataset/cropped/thomas muller\\\\thomas muller7.png',\n",
       "  './dataset/cropped/thomas muller\\\\thomas muller8.png',\n",
       "  './dataset/cropped/thomas muller\\\\thomas muller9.png'],\n",
       " 'zlatan ibrahimovic': ['./dataset/cropped/zlatan ibrahimovic\\\\zlatan ibrahimovic1.png',\n",
       "  './dataset/cropped/zlatan ibrahimovic\\\\zlatan ibrahimovic10.png',\n",
       "  './dataset/cropped/zlatan ibrahimovic\\\\zlatan ibrahimovic11.png',\n",
       "  './dataset/cropped/zlatan ibrahimovic\\\\zlatan ibrahimovic12.png',\n",
       "  './dataset/cropped/zlatan ibrahimovic\\\\zlatan ibrahimovic13.png',\n",
       "  './dataset/cropped/zlatan ibrahimovic\\\\zlatan ibrahimovic14.png',\n",
       "  './dataset/cropped/zlatan ibrahimovic\\\\zlatan ibrahimovic15.png',\n",
       "  './dataset/cropped/zlatan ibrahimovic\\\\zlatan ibrahimovic16.png',\n",
       "  './dataset/cropped/zlatan ibrahimovic\\\\zlatan ibrahimovic17.png',\n",
       "  './dataset/cropped/zlatan ibrahimovic\\\\zlatan ibrahimovic18.png',\n",
       "  './dataset/cropped/zlatan ibrahimovic\\\\zlatan ibrahimovic19.png',\n",
       "  './dataset/cropped/zlatan ibrahimovic\\\\zlatan ibrahimovic2.png',\n",
       "  './dataset/cropped/zlatan ibrahimovic\\\\zlatan ibrahimovic20.png',\n",
       "  './dataset/cropped/zlatan ibrahimovic\\\\zlatan ibrahimovic21.png',\n",
       "  './dataset/cropped/zlatan ibrahimovic\\\\zlatan ibrahimovic22.png',\n",
       "  './dataset/cropped/zlatan ibrahimovic\\\\zlatan ibrahimovic23.png',\n",
       "  './dataset/cropped/zlatan ibrahimovic\\\\zlatan ibrahimovic24.png',\n",
       "  './dataset/cropped/zlatan ibrahimovic\\\\zlatan ibrahimovic25.png',\n",
       "  './dataset/cropped/zlatan ibrahimovic\\\\zlatan ibrahimovic26.png',\n",
       "  './dataset/cropped/zlatan ibrahimovic\\\\zlatan ibrahimovic27.png',\n",
       "  './dataset/cropped/zlatan ibrahimovic\\\\zlatan ibrahimovic28.png',\n",
       "  './dataset/cropped/zlatan ibrahimovic\\\\zlatan ibrahimovic29.png',\n",
       "  './dataset/cropped/zlatan ibrahimovic\\\\zlatan ibrahimovic3.png',\n",
       "  './dataset/cropped/zlatan ibrahimovic\\\\zlatan ibrahimovic30.png',\n",
       "  './dataset/cropped/zlatan ibrahimovic\\\\zlatan ibrahimovic31.png',\n",
       "  './dataset/cropped/zlatan ibrahimovic\\\\zlatan ibrahimovic32.png',\n",
       "  './dataset/cropped/zlatan ibrahimovic\\\\zlatan ibrahimovic33.png',\n",
       "  './dataset/cropped/zlatan ibrahimovic\\\\zlatan ibrahimovic34.png',\n",
       "  './dataset/cropped/zlatan ibrahimovic\\\\zlatan ibrahimovic35.png',\n",
       "  './dataset/cropped/zlatan ibrahimovic\\\\zlatan ibrahimovic36.png',\n",
       "  './dataset/cropped/zlatan ibrahimovic\\\\zlatan ibrahimovic37.png',\n",
       "  './dataset/cropped/zlatan ibrahimovic\\\\zlatan ibrahimovic38.png',\n",
       "  './dataset/cropped/zlatan ibrahimovic\\\\zlatan ibrahimovic4.png',\n",
       "  './dataset/cropped/zlatan ibrahimovic\\\\zlatan ibrahimovic40.png',\n",
       "  './dataset/cropped/zlatan ibrahimovic\\\\zlatan ibrahimovic42.png',\n",
       "  './dataset/cropped/zlatan ibrahimovic\\\\zlatan ibrahimovic43.png',\n",
       "  './dataset/cropped/zlatan ibrahimovic\\\\zlatan ibrahimovic44.png',\n",
       "  './dataset/cropped/zlatan ibrahimovic\\\\zlatan ibrahimovic45.png',\n",
       "  './dataset/cropped/zlatan ibrahimovic\\\\zlatan ibrahimovic46.png',\n",
       "  './dataset/cropped/zlatan ibrahimovic\\\\zlatan ibrahimovic5.png',\n",
       "  './dataset/cropped/zlatan ibrahimovic\\\\zlatan ibrahimovic6.png',\n",
       "  './dataset/cropped/zlatan ibrahimovic\\\\zlatan ibrahimovic7.png',\n",
       "  './dataset/cropped/zlatan ibrahimovic\\\\zlatan ibrahimovic8.png',\n",
       "  './dataset/cropped/zlatan ibrahimovic\\\\zlatan ibrahimovic9.png']}"
      ]
     },
     "execution_count": 104,
     "metadata": {},
     "output_type": "execute_result"
    }
   ],
   "source": [
    "player_file_names_dict = {}\n",
    "for img_dir in cropped_img_dirs:\n",
    "    player_name = img_dir.split('/')[-1]\n",
    "    file_list = []\n",
    "    for entry in os.scandir(img_dir):\n",
    "        file_list.append(entry.path)\n",
    "    player_file_names_dict[player_name] = file_list\n",
    "player_file_names_dict"
   ]
  },
  {
   "cell_type": "code",
   "execution_count": 105,
   "id": "76d25653-ccd4-44fd-ac1a-e0093f5193b0",
   "metadata": {},
   "outputs": [
    {
     "data": {
      "text/plain": [
       "{'cristiano ronaldo': 0,\n",
       " 'david beckham': 1,\n",
       " 'gareth bale': 2,\n",
       " 'kylian mbappe': 3,\n",
       " 'lionel messi': 4,\n",
       " 'luis suarez': 5,\n",
       " 'mohamed salah': 6,\n",
       " 'neymar jr': 7,\n",
       " 'thomas muller': 8,\n",
       " 'zlatan ibrahimovic': 9}"
      ]
     },
     "execution_count": 105,
     "metadata": {},
     "output_type": "execute_result"
    }
   ],
   "source": [
    "class_dict = {}\n",
    "count = 0\n",
    "for player_name in player_file_names_dict.keys():\n",
    "    class_dict[player_name] = count\n",
    "    count = count + 1\n",
    "class_dict"
   ]
  },
  {
   "cell_type": "code",
   "execution_count": 106,
   "id": "2f33d566-194a-4b50-948f-09cdb27d390d",
   "metadata": {},
   "outputs": [],
   "source": [
    "import numpy as np\n",
    "import pywt\n",
    "import cv2    \n",
    "\n",
    "def w2d(img, mode='haar', level=1):\n",
    "    imArray = img\n",
    "    #Datatype conversions\n",
    "    #convert to grayscale\n",
    "    imArray = cv2.cvtColor( imArray,cv2.COLOR_RGB2GRAY )\n",
    "    #convert to float\n",
    "    imArray =  np.float32(imArray)   \n",
    "    imArray /= 255;\n",
    "    # compute coefficients \n",
    "    coeffs=pywt.wavedec2(imArray, mode, level=level)\n",
    "\n",
    "    #Process Coefficients\n",
    "    coeffs_H=list(coeffs)  \n",
    "    coeffs_H[0] *= 0;  \n",
    "\n",
    "    # reconstruction\n",
    "    imArray_H=pywt.waverec2(coeffs_H, mode);\n",
    "    imArray_H *= 255;\n",
    "    imArray_H =  np.uint8(imArray_H)\n",
    "\n",
    "    return imArray_H"
   ]
  },
  {
   "cell_type": "code",
   "execution_count": 107,
   "id": "7fdf81a1-9dc8-47b9-9632-5165010d8f79",
   "metadata": {},
   "outputs": [],
   "source": [
    "X, y = [], []\n",
    "for player_name, training_files in player_file_names_dict.items():\n",
    "    for training_image in training_files:\n",
    "        img = cv2.imread(training_image)\n",
    "        scalled_raw_img = cv2.resize(img, (32, 32))\n",
    "        img_har = w2d(img,'db1',5)\n",
    "        scalled_img_har = cv2.resize(img_har, (32, 32))\n",
    "        combined_img = np.vstack((scalled_raw_img.reshape(32*32*3,1),scalled_img_har.reshape(32*32,1)))\n",
    "        X.append(combined_img)\n",
    "        y.append(class_dict[player_name])    "
   ]
  },
  {
   "cell_type": "code",
   "execution_count": 108,
   "id": "6b577f28-f3b3-4caf-8f20-00787942e33e",
   "metadata": {},
   "outputs": [
    {
     "data": {
      "text/plain": [
       "4096"
      ]
     },
     "execution_count": 108,
     "metadata": {},
     "output_type": "execute_result"
    }
   ],
   "source": [
    "len(X[0])"
   ]
  },
  {
   "cell_type": "code",
   "execution_count": 109,
   "id": "09b632d9-a774-43fc-b854-bfcd6b1bf493",
   "metadata": {},
   "outputs": [
    {
     "data": {
      "text/plain": [
       "array([[52],\n",
       "       [68],\n",
       "       [84],\n",
       "       ...,\n",
       "       [40],\n",
       "       [29],\n",
       "       [79]], dtype=uint8)"
      ]
     },
     "execution_count": 109,
     "metadata": {},
     "output_type": "execute_result"
    }
   ],
   "source": [
    "X[0]"
   ]
  },
  {
   "cell_type": "code",
   "execution_count": 110,
   "id": "5ab7cfcf-077e-488b-8b15-e92cf7faaf02",
   "metadata": {},
   "outputs": [
    {
     "data": {
      "text/plain": [
       "(457, 4096)"
      ]
     },
     "execution_count": 110,
     "metadata": {},
     "output_type": "execute_result"
    }
   ],
   "source": [
    "X = np.array(X).reshape(len(X),4096).astype(float)\n",
    "X.shape"
   ]
  },
  {
   "cell_type": "code",
   "execution_count": 111,
   "id": "1076d750-f3c4-4051-bb7d-8d6cae0d9591",
   "metadata": {},
   "outputs": [],
   "source": [
    "from sklearn.svm import SVC\n",
    "from sklearn.preprocessing import StandardScaler\n",
    "from sklearn.model_selection import train_test_split\n",
    "from sklearn.pipeline import Pipeline\n",
    "from sklearn.metrics import classification_report"
   ]
  },
  {
   "cell_type": "code",
   "execution_count": 112,
   "id": "2f180728-11b2-42eb-8122-fc26364785f4",
   "metadata": {},
   "outputs": [
    {
     "data": {
      "text/plain": [
       "0.6956521739130435"
      ]
     },
     "execution_count": 112,
     "metadata": {},
     "output_type": "execute_result"
    }
   ],
   "source": [
    "X_train, X_test, y_train, y_test = train_test_split(X, y, random_state=0)\n",
    "\n",
    "pipe = Pipeline([('scaler', StandardScaler()), ('svc', SVC(kernel = 'rbf', C = 100))])\n",
    "pipe.fit(X_train, y_train)\n",
    "pipe.score(X_test, y_test)"
   ]
  },
  {
   "cell_type": "code",
   "execution_count": 113,
   "id": "8035d84a-630e-4c65-8209-250df9c5e050",
   "metadata": {},
   "outputs": [
    {
     "name": "stdout",
     "output_type": "stream",
     "text": [
      "              precision    recall  f1-score   support\n",
      "\n",
      "           0       0.73      0.67      0.70        12\n",
      "           1       0.90      0.69      0.78        13\n",
      "           2       0.53      1.00      0.69         9\n",
      "           3       0.78      0.54      0.64        13\n",
      "           4       0.71      0.86      0.77        14\n",
      "           5       0.55      0.50      0.52        12\n",
      "           6       1.00      0.78      0.88         9\n",
      "           7       0.58      0.64      0.61        11\n",
      "           8       0.70      0.70      0.70        10\n",
      "           9       0.73      0.67      0.70        12\n",
      "\n",
      "    accuracy                           0.70       115\n",
      "   macro avg       0.72      0.70      0.70       115\n",
      "weighted avg       0.72      0.70      0.70       115\n",
      "\n"
     ]
    }
   ],
   "source": [
    "print(classification_report(y_test, pipe.predict(X_test)))"
   ]
  },
  {
   "cell_type": "code",
   "execution_count": 114,
   "id": "eb8c4a77-7fab-475d-a38a-6cf2da3f1a47",
   "metadata": {},
   "outputs": [],
   "source": [
    "from sklearn import svm\n",
    "from sklearn.ensemble import RandomForestClassifier\n",
    "from sklearn.linear_model import LogisticRegression\n",
    "from sklearn.pipeline import make_pipeline\n",
    "from sklearn.model_selection import GridSearchCV"
   ]
  },
  {
   "cell_type": "code",
   "execution_count": 115,
   "id": "ef5ea925-54f8-4d14-9199-debbd0df7cc4",
   "metadata": {},
   "outputs": [],
   "source": [
    "model_params = {\n",
    "    'svm': {\n",
    "        'model': svm.SVC(gamma='auto',probability=True),\n",
    "        'params' : {\n",
    "            'svc__C': [1,10,100,1000],\n",
    "            'svc__kernel': ['rbf','linear']\n",
    "        }  \n",
    "    },\n",
    "    'random_forest': {\n",
    "        'model': RandomForestClassifier(),\n",
    "        'params' : {\n",
    "            'randomforestclassifier__n_estimators': [1,5,10]\n",
    "        }\n",
    "    },\n",
    "    'logistic_regression' : {\n",
    "        'model': LogisticRegression(solver='liblinear',multi_class='auto'),\n",
    "        'params': {\n",
    "            'logisticregression__C': [1,5,10]\n",
    "        }\n",
    "    }\n",
    "}"
   ]
  },
  {
   "cell_type": "code",
   "execution_count": 116,
   "id": "817c1165-b72f-4c45-b15f-1ad09b08bc8b",
   "metadata": {},
   "outputs": [
    {
     "data": {
      "text/html": [
       "<div>\n",
       "<style scoped>\n",
       "    .dataframe tbody tr th:only-of-type {\n",
       "        vertical-align: middle;\n",
       "    }\n",
       "\n",
       "    .dataframe tbody tr th {\n",
       "        vertical-align: top;\n",
       "    }\n",
       "\n",
       "    .dataframe thead th {\n",
       "        text-align: right;\n",
       "    }\n",
       "</style>\n",
       "<table border=\"1\" class=\"dataframe\">\n",
       "  <thead>\n",
       "    <tr style=\"text-align: right;\">\n",
       "      <th></th>\n",
       "      <th>model</th>\n",
       "      <th>best_score</th>\n",
       "      <th>best_params</th>\n",
       "    </tr>\n",
       "  </thead>\n",
       "  <tbody>\n",
       "    <tr>\n",
       "      <th>0</th>\n",
       "      <td>svm</td>\n",
       "      <td>0.648806</td>\n",
       "      <td>{'svc__C': 1, 'svc__kernel': 'linear'}</td>\n",
       "    </tr>\n",
       "    <tr>\n",
       "      <th>1</th>\n",
       "      <td>random_forest</td>\n",
       "      <td>0.347613</td>\n",
       "      <td>{'randomforestclassifier__n_estimators': 10}</td>\n",
       "    </tr>\n",
       "    <tr>\n",
       "      <th>2</th>\n",
       "      <td>logistic_regression</td>\n",
       "      <td>0.680946</td>\n",
       "      <td>{'logisticregression__C': 1}</td>\n",
       "    </tr>\n",
       "  </tbody>\n",
       "</table>\n",
       "</div>"
      ],
      "text/plain": [
       "                 model  best_score  \\\n",
       "0                  svm    0.648806   \n",
       "1        random_forest    0.347613   \n",
       "2  logistic_regression    0.680946   \n",
       "\n",
       "                                    best_params  \n",
       "0        {'svc__C': 1, 'svc__kernel': 'linear'}  \n",
       "1  {'randomforestclassifier__n_estimators': 10}  \n",
       "2                  {'logisticregression__C': 1}  "
      ]
     },
     "execution_count": 116,
     "metadata": {},
     "output_type": "execute_result"
    }
   ],
   "source": [
    "scores = []\n",
    "best_estimators = {}\n",
    "import pandas as pd\n",
    "for algo, mp in model_params.items():\n",
    "    pipe = make_pipeline(StandardScaler(), mp['model'])\n",
    "    clf =  GridSearchCV(pipe, mp['params'], cv=5, return_train_score=False)\n",
    "    clf.fit(X_train, y_train)\n",
    "    scores.append({\n",
    "        'model': algo,\n",
    "        'best_score': clf.best_score_,\n",
    "        'best_params': clf.best_params_\n",
    "    })\n",
    "    best_estimators[algo] = clf.best_estimator_\n",
    "    \n",
    "df = pd.DataFrame(scores,columns=['model','best_score','best_params'])\n",
    "df"
   ]
  },
  {
   "cell_type": "code",
   "execution_count": 117,
   "id": "ab31acb4-72c6-48ec-96e0-b6f1785b5118",
   "metadata": {},
   "outputs": [
    {
     "data": {
      "text/plain": [
       "{'svm': Pipeline(steps=[('standardscaler', StandardScaler()),\n",
       "                 ('svc',\n",
       "                  SVC(C=1, gamma='auto', kernel='linear', probability=True))]),\n",
       " 'random_forest': Pipeline(steps=[('standardscaler', StandardScaler()),\n",
       "                 ('randomforestclassifier',\n",
       "                  RandomForestClassifier(n_estimators=10))]),\n",
       " 'logistic_regression': Pipeline(steps=[('standardscaler', StandardScaler()),\n",
       "                 ('logisticregression',\n",
       "                  LogisticRegression(C=1, solver='liblinear'))])}"
      ]
     },
     "execution_count": 117,
     "metadata": {},
     "output_type": "execute_result"
    }
   ],
   "source": [
    "best_estimators"
   ]
  },
  {
   "cell_type": "code",
   "execution_count": 118,
   "id": "c1e54595-d370-4ef8-9ebe-ec6c309bfc74",
   "metadata": {},
   "outputs": [
    {
     "data": {
      "text/plain": [
       "0.8"
      ]
     },
     "execution_count": 118,
     "metadata": {},
     "output_type": "execute_result"
    }
   ],
   "source": [
    "best_estimators['svm'].score(X_test,y_test)"
   ]
  },
  {
   "cell_type": "code",
   "execution_count": 119,
   "id": "37a67001-1d8b-4cb1-a31c-73bbb771bc21",
   "metadata": {},
   "outputs": [
    {
     "data": {
      "text/plain": [
       "0.4608695652173913"
      ]
     },
     "execution_count": 119,
     "metadata": {},
     "output_type": "execute_result"
    }
   ],
   "source": [
    "best_estimators['random_forest'].score(X_test,y_test)"
   ]
  },
  {
   "cell_type": "code",
   "execution_count": 120,
   "id": "95fa9377-38e9-434b-9049-cc56dced4e09",
   "metadata": {},
   "outputs": [
    {
     "data": {
      "text/plain": [
       "0.782608695652174"
      ]
     },
     "execution_count": 120,
     "metadata": {},
     "output_type": "execute_result"
    }
   ],
   "source": [
    "best_estimators['logistic_regression'].score(X_test,y_test)"
   ]
  },
  {
   "cell_type": "code",
   "execution_count": 121,
   "id": "d4255c6b-f378-43da-930a-a4559379f6bf",
   "metadata": {},
   "outputs": [],
   "source": [
    "best_clf = best_estimators['svm']\n",
    "# best_clf = best_estimators['logistic_regression']"
   ]
  },
  {
   "cell_type": "code",
   "execution_count": 122,
   "id": "4f8b5b11-816f-4d1c-bb6a-cc9fb9a943fa",
   "metadata": {},
   "outputs": [
    {
     "data": {
      "text/plain": [
       "array([[10,  0,  1,  0,  0,  0,  0,  1,  0,  0],\n",
       "       [ 0, 11,  0,  0,  0,  0,  0,  0,  0,  2],\n",
       "       [ 0,  0,  9,  0,  0,  0,  0,  0,  0,  0],\n",
       "       [ 1,  1,  1,  9,  0,  1,  0,  0,  0,  0],\n",
       "       [ 0,  0,  0,  0, 12,  0,  0,  1,  1,  0],\n",
       "       [ 1,  0,  1,  0,  0,  8,  0,  0,  1,  1],\n",
       "       [ 0,  0,  0,  0,  0,  0,  9,  0,  0,  0],\n",
       "       [ 0,  0,  1,  0,  0,  1,  0,  9,  0,  0],\n",
       "       [ 1,  0,  0,  0,  0,  1,  0,  1,  7,  0],\n",
       "       [ 2,  0,  1,  0,  1,  0,  0,  0,  0,  8]], dtype=int64)"
      ]
     },
     "execution_count": 122,
     "metadata": {},
     "output_type": "execute_result"
    }
   ],
   "source": [
    "from sklearn.metrics import confusion_matrix\n",
    "cm = confusion_matrix(y_test, best_clf.predict(X_test))\n",
    "cm"
   ]
  },
  {
   "cell_type": "code",
   "execution_count": 123,
   "id": "6eaee047-908d-4071-b727-92a643209f72",
   "metadata": {},
   "outputs": [
    {
     "data": {
      "text/plain": [
       "Text(95.72222222222221, 0.5, 'Truth')"
      ]
     },
     "execution_count": 123,
     "metadata": {},
     "output_type": "execute_result"
    },
    {
     "data": {
      "image/png": "[encoded data removed]",
      "text/plain": [
       "<Figure size 1000x700 with 2 Axes>"
      ]
     },
     "metadata": {},
     "output_type": "display_data"
    }
   ],
   "source": [
    "import seaborn as sn\n",
    "plt.figure(figsize = (10,7))\n",
    "sn.heatmap(cm, annot=True)\n",
    "plt.xlabel('Predicted')\n",
    "plt.ylabel('Truth')"
   ]
  },
  {
   "cell_type": "code",
   "execution_count": 124,
   "id": "87e1e3e0-97d9-4067-b6a7-3b874ff4692d",
   "metadata": {},
   "outputs": [
    {
     "data": {
      "text/plain": [
       "{'cristiano ronaldo': 0,\n",
       " 'david beckham': 1,\n",
       " 'gareth bale': 2,\n",
       " 'kylian mbappe': 3,\n",
       " 'lionel messi': 4,\n",
       " 'luis suarez': 5,\n",
       " 'mohamed salah': 6,\n",
       " 'neymar jr': 7,\n",
       " 'thomas muller': 8,\n",
       " 'zlatan ibrahimovic': 9}"
      ]
     },
     "execution_count": 124,
     "metadata": {},
     "output_type": "execute_result"
    }
   ],
   "source": [
    "class_dict"
   ]
  },
  {
   "cell_type": "code",
   "execution_count": null,
   "id": "0502d8ef-4da8-409b-b5e1-96f70e60ce77",
   "metadata": {},
   "outputs": [],
   "source": []
  }
 ],
 "metadata": {
  "kernelspec": {
   "display_name": "Python 3 (ipykernel)",
   "language": "python",
   "name": "python3"
  },
  "language_info": {
   "codemirror_mode": {
    "name": "ipython",
    "version": 3
   },
   "file_extension": ".py",
   "mimetype": "text/x-python",
   "name": "python",
   "nbconvert_exporter": "python",
   "pygments_lexer": "ipython3",
   "version": "3.11.3"
  }
 },
 "nbformat": 4,
 "nbformat_minor": 5
}
